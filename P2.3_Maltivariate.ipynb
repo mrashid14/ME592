{
 "cells": [
  {
   "cell_type": "markdown",
   "id": "9751ffce",
   "metadata": {},
   "source": [
    "## Mohammad Rashid Mohammad Shoaib    ME592 HW#1   2/16/2023"
   ]
  },
  {
   "cell_type": "markdown",
   "id": "38ad005f",
   "metadata": {},
   "source": [
    "### *Problem 2.3 Multivariate*"
   ]
  },
  {
   "cell_type": "code",
   "execution_count": 12,
   "id": "e1361615",
   "metadata": {},
   "outputs": [],
   "source": [
    "import pandas as pd\n",
    "import numpy as np"
   ]
  },
  {
   "cell_type": "code",
   "execution_count": 13,
   "id": "e18b4a44",
   "metadata": {},
   "outputs": [],
   "source": [
    "df = pd.read_table('airfoil_self_noise.dat', delim_whitespace=True)"
   ]
  },
  {
   "cell_type": "code",
   "execution_count": 14,
   "id": "1bc5f8fe",
   "metadata": {
    "scrolled": true
   },
   "outputs": [
    {
     "name": "stdout",
     "output_type": "stream",
     "text": [
      "       800     0  0.3048  71.3  0.00266337  126.201\n",
      "0     1000   0.0  0.3048  71.3    0.002663  125.201\n",
      "1     1250   0.0  0.3048  71.3    0.002663  125.951\n",
      "2     1600   0.0  0.3048  71.3    0.002663  127.591\n",
      "3     2000   0.0  0.3048  71.3    0.002663  127.461\n",
      "4     2500   0.0  0.3048  71.3    0.002663  125.571\n",
      "...    ...   ...     ...   ...         ...      ...\n",
      "1497  2500  15.6  0.1016  39.6    0.052849  110.264\n",
      "1498  3150  15.6  0.1016  39.6    0.052849  109.254\n",
      "1499  4000  15.6  0.1016  39.6    0.052849  106.604\n",
      "1500  5000  15.6  0.1016  39.6    0.052849  106.224\n",
      "1501  6300  15.6  0.1016  39.6    0.052849  104.204\n",
      "\n",
      "[1502 rows x 6 columns]\n"
     ]
    }
   ],
   "source": [
    "df.head()\n",
    "print(df)"
   ]
  },
  {
   "cell_type": "code",
   "execution_count": 15,
   "id": "b3d959f4",
   "metadata": {},
   "outputs": [
    {
     "data": {
      "text/html": [
       "<div>\n",
       "<style scoped>\n",
       "    .dataframe tbody tr th:only-of-type {\n",
       "        vertical-align: middle;\n",
       "    }\n",
       "\n",
       "    .dataframe tbody tr th {\n",
       "        vertical-align: top;\n",
       "    }\n",
       "\n",
       "    .dataframe thead th {\n",
       "        text-align: right;\n",
       "    }\n",
       "</style>\n",
       "<table border=\"1\" class=\"dataframe\">\n",
       "  <thead>\n",
       "    <tr style=\"text-align: right;\">\n",
       "      <th></th>\n",
       "      <th>800</th>\n",
       "      <th>0</th>\n",
       "      <th>0.3048</th>\n",
       "      <th>71.3</th>\n",
       "      <th>0.00266337</th>\n",
       "      <th>126.201</th>\n",
       "    </tr>\n",
       "  </thead>\n",
       "  <tbody>\n",
       "    <tr>\n",
       "      <th>count</th>\n",
       "      <td>1502.000000</td>\n",
       "      <td>1502.000000</td>\n",
       "      <td>1502.000000</td>\n",
       "      <td>1502.000000</td>\n",
       "      <td>1502.000000</td>\n",
       "      <td>1502.000000</td>\n",
       "    </tr>\n",
       "    <tr>\n",
       "      <th>mean</th>\n",
       "      <td>2887.769640</td>\n",
       "      <td>6.786818</td>\n",
       "      <td>0.136436</td>\n",
       "      <td>50.847137</td>\n",
       "      <td>0.011146</td>\n",
       "      <td>124.835034</td>\n",
       "    </tr>\n",
       "    <tr>\n",
       "      <th>std</th>\n",
       "      <td>3153.162983</td>\n",
       "      <td>5.917509</td>\n",
       "      <td>0.093471</td>\n",
       "      <td>15.569029</td>\n",
       "      <td>0.013153</td>\n",
       "      <td>6.900864</td>\n",
       "    </tr>\n",
       "    <tr>\n",
       "      <th>min</th>\n",
       "      <td>200.000000</td>\n",
       "      <td>0.000000</td>\n",
       "      <td>0.025400</td>\n",
       "      <td>31.700000</td>\n",
       "      <td>0.000401</td>\n",
       "      <td>103.380000</td>\n",
       "    </tr>\n",
       "    <tr>\n",
       "      <th>25%</th>\n",
       "      <td>800.000000</td>\n",
       "      <td>2.000000</td>\n",
       "      <td>0.050800</td>\n",
       "      <td>39.600000</td>\n",
       "      <td>0.002535</td>\n",
       "      <td>120.190000</td>\n",
       "    </tr>\n",
       "    <tr>\n",
       "      <th>50%</th>\n",
       "      <td>1600.000000</td>\n",
       "      <td>5.400000</td>\n",
       "      <td>0.101600</td>\n",
       "      <td>39.600000</td>\n",
       "      <td>0.004957</td>\n",
       "      <td>125.719000</td>\n",
       "    </tr>\n",
       "    <tr>\n",
       "      <th>75%</th>\n",
       "      <td>4000.000000</td>\n",
       "      <td>9.900000</td>\n",
       "      <td>0.228600</td>\n",
       "      <td>71.300000</td>\n",
       "      <td>0.015840</td>\n",
       "      <td>129.997750</td>\n",
       "    </tr>\n",
       "    <tr>\n",
       "      <th>max</th>\n",
       "      <td>20000.000000</td>\n",
       "      <td>22.200000</td>\n",
       "      <td>0.304800</td>\n",
       "      <td>71.300000</td>\n",
       "      <td>0.058411</td>\n",
       "      <td>140.987000</td>\n",
       "    </tr>\n",
       "  </tbody>\n",
       "</table>\n",
       "</div>"
      ],
      "text/plain": [
       "                800            0       0.3048         71.3   0.00266337  \\\n",
       "count   1502.000000  1502.000000  1502.000000  1502.000000  1502.000000   \n",
       "mean    2887.769640     6.786818     0.136436    50.847137     0.011146   \n",
       "std     3153.162983     5.917509     0.093471    15.569029     0.013153   \n",
       "min      200.000000     0.000000     0.025400    31.700000     0.000401   \n",
       "25%      800.000000     2.000000     0.050800    39.600000     0.002535   \n",
       "50%     1600.000000     5.400000     0.101600    39.600000     0.004957   \n",
       "75%     4000.000000     9.900000     0.228600    71.300000     0.015840   \n",
       "max    20000.000000    22.200000     0.304800    71.300000     0.058411   \n",
       "\n",
       "           126.201  \n",
       "count  1502.000000  \n",
       "mean    124.835034  \n",
       "std       6.900864  \n",
       "min     103.380000  \n",
       "25%     120.190000  \n",
       "50%     125.719000  \n",
       "75%     129.997750  \n",
       "max     140.987000  "
      ]
     },
     "execution_count": 15,
     "metadata": {},
     "output_type": "execute_result"
    }
   ],
   "source": [
    "df.describe()"
   ]
  },
  {
   "cell_type": "code",
   "execution_count": 16,
   "id": "add6aef6",
   "metadata": {},
   "outputs": [
    {
     "name": "stdout",
     "output_type": "stream",
     "text": [
      "800           2887.769640\n",
      "0                6.786818\n",
      "0.3048           0.136436\n",
      "71.3            50.847137\n",
      "0.00266337       0.011146\n",
      "126.201        124.835034\n",
      "dtype: float64\n"
     ]
    }
   ],
   "source": [
    "# Mean\n",
    "mean = df.mean()\n",
    "print(mean)"
   ]
  },
  {
   "cell_type": "code",
   "execution_count": 17,
   "id": "d5a11c0d",
   "metadata": {},
   "outputs": [
    {
     "name": "stdout",
     "output_type": "stream",
     "text": [
      "800           9.942437e+06\n",
      "0             3.501691e+01\n",
      "0.3048        8.736825e-03\n",
      "71.3          2.423947e+02\n",
      "0.00266337    1.729960e-04\n",
      "126.201       4.762193e+01\n",
      "dtype: float64\n"
     ]
    }
   ],
   "source": [
    "# variance (or standard deviation)\n",
    "var = df.var()\n",
    "print(var)"
   ]
  },
  {
   "cell_type": "code",
   "execution_count": 18,
   "id": "486a6504",
   "metadata": {},
   "outputs": [
    {
     "name": "stdout",
     "output_type": "stream",
     "text": [
      "800           1600.000000\n",
      "0                5.400000\n",
      "0.3048           0.101600\n",
      "71.3            39.600000\n",
      "0.00266337       0.004957\n",
      "126.201        125.719000\n",
      "dtype: float64\n"
     ]
    }
   ],
   "source": [
    "# median\n",
    "median = df.median()\n",
    "print(median)"
   ]
  },
  {
   "cell_type": "code",
   "execution_count": 19,
   "id": "6a01cf28",
   "metadata": {},
   "outputs": [
    {
     "name": "stdout",
     "output_type": "stream",
     "text": [
      "800           5.704083\n",
      "0            -0.413399\n",
      "0.3048       -1.035595\n",
      "71.3         -1.562758\n",
      "0.00266337    2.215282\n",
      "126.201      -0.316058\n",
      "dtype: float64\n"
     ]
    }
   ],
   "source": [
    "# kurtosis\n",
    "kurt = df.kurtosis()\n",
    "print(kurt)"
   ]
  },
  {
   "cell_type": "code",
   "execution_count": 20,
   "id": "f31d51f4",
   "metadata": {},
   "outputs": [
    {
     "name": "stdout",
     "output_type": "stream",
     "text": [
      "800           2.136180\n",
      "0             0.688553\n",
      "0.3048        0.458497\n",
      "71.3          0.237297\n",
      "0.00266337    1.701196\n",
      "126.201      -0.418439\n",
      "dtype: float64\n"
     ]
    }
   ],
   "source": [
    "# skewness\n",
    "skew = df.skew()\n",
    "print(skew)"
   ]
  },
  {
   "cell_type": "code",
   "execution_count": 21,
   "id": "9288c0be",
   "metadata": {},
   "outputs": [
    {
     "name": "stdout",
     "output_type": "stream",
     "text": [
      "800           19800.000000\n",
      "0                22.200000\n",
      "0.3048            0.279400\n",
      "71.3             39.600000\n",
      "0.00266337        0.058011\n",
      "126.201          37.607000\n",
      "dtype: float64\n"
     ]
    }
   ],
   "source": [
    "# range\n",
    "rng = df.max() - df.min()\n",
    "print(rng)"
   ]
  },
  {
   "cell_type": "code",
   "execution_count": null,
   "id": "0799917e",
   "metadata": {},
   "outputs": [],
   "source": []
  }
 ],
 "metadata": {
  "kernelspec": {
   "display_name": "Python 3 (ipykernel)",
   "language": "python",
   "name": "python3"
  },
  "language_info": {
   "codemirror_mode": {
    "name": "ipython",
    "version": 3
   },
   "file_extension": ".py",
   "mimetype": "text/x-python",
   "name": "python",
   "nbconvert_exporter": "python",
   "pygments_lexer": "ipython3",
   "version": "3.9.13"
  }
 },
 "nbformat": 4,
 "nbformat_minor": 5
}
